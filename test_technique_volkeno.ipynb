{
 "cells": [
  {
   "cell_type": "markdown",
   "id": "0488faab",
   "metadata": {},
   "source": [
    "# installation des librairies"
   ]
  },
  {
   "cell_type": "code",
   "execution_count": 18,
   "id": "98d22aac",
   "metadata": {},
   "outputs": [
    {
     "name": "stdout",
     "output_type": "stream",
     "text": [
      "Requirement already satisfied: SpeechRecognition==3.2.0 in /opt/anaconda3/lib/python3.8/site-packages (3.2.0)\n",
      "Note: you may need to restart the kernel to use updated packages.\n"
     ]
    }
   ],
   "source": [
    "pip install SpeechRecognition==3.2.0"
   ]
  },
  {
   "cell_type": "code",
   "execution_count": 19,
   "id": "e9b34925",
   "metadata": {},
   "outputs": [
    {
     "name": "stdout",
     "output_type": "stream",
     "text": [
      "Requirement already satisfied: pyttsx3 in /opt/anaconda3/lib/python3.8/site-packages (2.90)\n",
      "Requirement already satisfied: pyobjc>=2.4 in /opt/anaconda3/lib/python3.8/site-packages (from pyttsx3) (8.5)\n",
      "Requirement already satisfied: pyobjc-framework-CoreAudio==8.5 in /opt/anaconda3/lib/python3.8/site-packages (from pyobjc>=2.4->pyttsx3) (8.5)\n",
      "Requirement already satisfied: pyobjc-framework-CoreServices==8.5 in /opt/anaconda3/lib/python3.8/site-packages (from pyobjc>=2.4->pyttsx3) (8.5)\n",
      "Requirement already satisfied: pyobjc-framework-ExternalAccessory==8.5 in /opt/anaconda3/lib/python3.8/site-packages (from pyobjc>=2.4->pyttsx3) (8.5)\n",
      "Requirement already satisfied: pyobjc-framework-LinkPresentation==8.5 in /opt/anaconda3/lib/python3.8/site-packages (from pyobjc>=2.4->pyttsx3) (8.5)\n",
      "Requirement already satisfied: pyobjc-framework-Contacts==8.5 in /opt/anaconda3/lib/python3.8/site-packages (from pyobjc>=2.4->pyttsx3) (8.5)\n",
      "Requirement already satisfied: pyobjc-framework-ContactsUI==8.5 in /opt/anaconda3/lib/python3.8/site-packages (from pyobjc>=2.4->pyttsx3) (8.5)\n",
      "Requirement already satisfied: pyobjc-framework-ApplicationServices==8.5 in /opt/anaconda3/lib/python3.8/site-packages (from pyobjc>=2.4->pyttsx3) (8.5)\n",
      "Requirement already satisfied: pyobjc-framework-FileProviderUI==8.5 in /opt/anaconda3/lib/python3.8/site-packages (from pyobjc>=2.4->pyttsx3) (8.5)\n",
      "Requirement already satisfied: pyobjc-framework-Cocoa==8.5 in /opt/anaconda3/lib/python3.8/site-packages (from pyobjc>=2.4->pyttsx3) (8.5)\n",
      "Requirement already satisfied: pyobjc-framework-MediaToolbox==8.5 in /opt/anaconda3/lib/python3.8/site-packages (from pyobjc>=2.4->pyttsx3) (8.5)\n",
      "Requirement already satisfied: pyobjc-framework-LocalAuthentication==8.5 in /opt/anaconda3/lib/python3.8/site-packages (from pyobjc>=2.4->pyttsx3) (8.5)\n",
      "Requirement already satisfied: pyobjc-framework-ColorSync==8.5 in /opt/anaconda3/lib/python3.8/site-packages (from pyobjc>=2.4->pyttsx3) (8.5)\n",
      "Requirement already satisfied: pyobjc-framework-ScreenSaver==8.5 in /opt/anaconda3/lib/python3.8/site-packages (from pyobjc>=2.4->pyttsx3) (8.5)\n",
      "Requirement already satisfied: pyobjc-framework-DiscRecordingUI==8.5 in /opt/anaconda3/lib/python3.8/site-packages (from pyobjc>=2.4->pyttsx3) (8.5)\n",
      "Requirement already satisfied: pyobjc-framework-Social==8.5 in /opt/anaconda3/lib/python3.8/site-packages (from pyobjc>=2.4->pyttsx3) (8.5)\n",
      "Requirement already satisfied: pyobjc-framework-Accounts==8.5 in /opt/anaconda3/lib/python3.8/site-packages (from pyobjc>=2.4->pyttsx3) (8.5)\n",
      "Requirement already satisfied: pyobjc-framework-PhotosUI==8.5 in /opt/anaconda3/lib/python3.8/site-packages (from pyobjc>=2.4->pyttsx3) (8.5)\n",
      "Requirement already satisfied: pyobjc-framework-PencilKit==8.5 in /opt/anaconda3/lib/python3.8/site-packages (from pyobjc>=2.4->pyttsx3) (8.5)\n",
      "Requirement already satisfied: pyobjc-framework-SystemExtensions==8.5 in /opt/anaconda3/lib/python3.8/site-packages (from pyobjc>=2.4->pyttsx3) (8.5)\n",
      "Requirement already satisfied: pyobjc-framework-InputMethodKit==8.5 in /opt/anaconda3/lib/python3.8/site-packages (from pyobjc>=2.4->pyttsx3) (8.5)\n",
      "Requirement already satisfied: pyobjc-framework-GameKit==8.5 in /opt/anaconda3/lib/python3.8/site-packages (from pyobjc>=2.4->pyttsx3) (8.5)\n",
      "Requirement already satisfied: pyobjc-framework-UserNotifications==8.5 in /opt/anaconda3/lib/python3.8/site-packages (from pyobjc>=2.4->pyttsx3) (8.5)\n",
      "Requirement already satisfied: pyobjc-framework-Network==8.5 in /opt/anaconda3/lib/python3.8/site-packages (from pyobjc>=2.4->pyttsx3) (8.5)\n",
      "Requirement already satisfied: pyobjc-framework-NetworkExtension==8.5 in /opt/anaconda3/lib/python3.8/site-packages (from pyobjc>=2.4->pyttsx3) (8.5)\n",
      "Requirement already satisfied: pyobjc-framework-OSLog==8.5 in /opt/anaconda3/lib/python3.8/site-packages (from pyobjc>=2.4->pyttsx3) (8.5)\n",
      "Requirement already satisfied: pyobjc-framework-AVFoundation==8.5 in /opt/anaconda3/lib/python3.8/site-packages (from pyobjc>=2.4->pyttsx3) (8.5)\n",
      "Requirement already satisfied: pyobjc-framework-GameCenter==8.5 in /opt/anaconda3/lib/python3.8/site-packages (from pyobjc>=2.4->pyttsx3) (8.5)\n",
      "Requirement already satisfied: pyobjc-framework-SoundAnalysis==8.5 in /opt/anaconda3/lib/python3.8/site-packages (from pyobjc>=2.4->pyttsx3) (8.5)\n",
      "Requirement already satisfied: pyobjc-framework-ServiceManagement==8.5 in /opt/anaconda3/lib/python3.8/site-packages (from pyobjc>=2.4->pyttsx3) (8.5)\n",
      "Requirement already satisfied: pyobjc-framework-NaturalLanguage==8.5 in /opt/anaconda3/lib/python3.8/site-packages (from pyobjc>=2.4->pyttsx3) (8.5)\n",
      "Requirement already satisfied: pyobjc-framework-CoreSpotlight==8.5 in /opt/anaconda3/lib/python3.8/site-packages (from pyobjc>=2.4->pyttsx3) (8.5)\n",
      "Requirement already satisfied: pyobjc-framework-BusinessChat==8.5 in /opt/anaconda3/lib/python3.8/site-packages (from pyobjc>=2.4->pyttsx3) (8.5)\n",
      "Requirement already satisfied: pyobjc-framework-ExecutionPolicy==8.5 in /opt/anaconda3/lib/python3.8/site-packages (from pyobjc>=2.4->pyttsx3) (8.5)\n",
      "Requirement already satisfied: pyobjc-framework-MediaAccessibility==8.5 in /opt/anaconda3/lib/python3.8/site-packages (from pyobjc>=2.4->pyttsx3) (8.5)\n",
      "Requirement already satisfied: pyobjc-framework-AudioVideoBridging==8.5 in /opt/anaconda3/lib/python3.8/site-packages (from pyobjc>=2.4->pyttsx3) (8.5)\n",
      "Requirement already satisfied: pyobjc-framework-IOSurface==8.5 in /opt/anaconda3/lib/python3.8/site-packages (from pyobjc>=2.4->pyttsx3) (8.5)\n",
      "Requirement already satisfied: pyobjc-framework-ExceptionHandling==8.5 in /opt/anaconda3/lib/python3.8/site-packages (from pyobjc>=2.4->pyttsx3) (8.5)\n",
      "Requirement already satisfied: pyobjc-framework-Photos==8.5 in /opt/anaconda3/lib/python3.8/site-packages (from pyobjc>=2.4->pyttsx3) (8.5)\n",
      "Requirement already satisfied: pyobjc-framework-GameplayKit==8.5 in /opt/anaconda3/lib/python3.8/site-packages (from pyobjc>=2.4->pyttsx3) (8.5)\n",
      "Requirement already satisfied: pyobjc-framework-Speech==8.5 in /opt/anaconda3/lib/python3.8/site-packages (from pyobjc>=2.4->pyttsx3) (8.5)\n",
      "Requirement already satisfied: pyobjc-framework-Intents==8.5 in /opt/anaconda3/lib/python3.8/site-packages (from pyobjc>=2.4->pyttsx3) (8.5)\n",
      "Requirement already satisfied: pyobjc-framework-CoreData==8.5 in /opt/anaconda3/lib/python3.8/site-packages (from pyobjc>=2.4->pyttsx3) (8.5)\n",
      "Requirement already satisfied: pyobjc-framework-CoreLocation==8.5 in /opt/anaconda3/lib/python3.8/site-packages (from pyobjc>=2.4->pyttsx3) (8.5)\n",
      "Requirement already satisfied: pyobjc-framework-CoreML==8.5 in /opt/anaconda3/lib/python3.8/site-packages (from pyobjc>=2.4->pyttsx3) (8.5)\n",
      "Requirement already satisfied: pyobjc-framework-AddressBook==8.5 in /opt/anaconda3/lib/python3.8/site-packages (from pyobjc>=2.4->pyttsx3) (8.5)\n",
      "Requirement already satisfied: pyobjc-framework-FileProvider==8.5 in /opt/anaconda3/lib/python3.8/site-packages (from pyobjc>=2.4->pyttsx3) (8.5)\n",
      "Requirement already satisfied: pyobjc-framework-VideoToolbox==8.5 in /opt/anaconda3/lib/python3.8/site-packages (from pyobjc>=2.4->pyttsx3) (8.5)\n",
      "Requirement already satisfied: pyobjc-framework-AppleScriptKit==8.5 in /opt/anaconda3/lib/python3.8/site-packages (from pyobjc>=2.4->pyttsx3) (8.5)\n",
      "Requirement already satisfied: pyobjc-framework-SpriteKit==8.5 in /opt/anaconda3/lib/python3.8/site-packages (from pyobjc>=2.4->pyttsx3) (8.5)\n",
      "Requirement already satisfied: pyobjc-framework-CryptoTokenKit==8.5 in /opt/anaconda3/lib/python3.8/site-packages (from pyobjc>=2.4->pyttsx3) (8.5)\n",
      "Requirement already satisfied: pyobjc-framework-CoreBluetooth==8.5 in /opt/anaconda3/lib/python3.8/site-packages (from pyobjc>=2.4->pyttsx3) (8.5)\n",
      "Requirement already satisfied: pyobjc-framework-AuthenticationServices==8.5 in /opt/anaconda3/lib/python3.8/site-packages (from pyobjc>=2.4->pyttsx3) (8.5)\n",
      "Requirement already satisfied: pyobjc-framework-Automator==8.5 in /opt/anaconda3/lib/python3.8/site-packages (from pyobjc>=2.4->pyttsx3) (8.5)\n",
      "Requirement already satisfied: pyobjc-framework-Vision==8.5 in /opt/anaconda3/lib/python3.8/site-packages (from pyobjc>=2.4->pyttsx3) (8.5)\n",
      "Requirement already satisfied: pyobjc-framework-CoreText==8.5 in /opt/anaconda3/lib/python3.8/site-packages (from pyobjc>=2.4->pyttsx3) (8.5)\n",
      "Requirement already satisfied: pyobjc-framework-DVDPlayback==8.5 in /opt/anaconda3/lib/python3.8/site-packages (from pyobjc>=2.4->pyttsx3) (8.5)\n",
      "Requirement already satisfied: pyobjc-framework-AppleScriptObjC==8.5 in /opt/anaconda3/lib/python3.8/site-packages (from pyobjc>=2.4->pyttsx3) (8.5)\n",
      "Requirement already satisfied: pyobjc-framework-CoreMediaIO==8.5 in /opt/anaconda3/lib/python3.8/site-packages (from pyobjc>=2.4->pyttsx3) (8.5)\n",
      "Requirement already satisfied: pyobjc-framework-OSAKit==8.5 in /opt/anaconda3/lib/python3.8/site-packages (from pyobjc>=2.4->pyttsx3) (8.5)\n",
      "Requirement already satisfied: pyobjc-framework-PreferencePanes==8.5 in /opt/anaconda3/lib/python3.8/site-packages (from pyobjc>=2.4->pyttsx3) (8.5)\n",
      "Requirement already satisfied: pyobjc-framework-FinderSync==8.5 in /opt/anaconda3/lib/python3.8/site-packages (from pyobjc>=2.4->pyttsx3) (8.5)\n",
      "Requirement already satisfied: pyobjc-framework-ModelIO==8.5 in /opt/anaconda3/lib/python3.8/site-packages (from pyobjc>=2.4->pyttsx3) (8.5)\n",
      "Requirement already satisfied: pyobjc-framework-SearchKit==8.5 in /opt/anaconda3/lib/python3.8/site-packages (from pyobjc>=2.4->pyttsx3) (8.5)\n",
      "Requirement already satisfied: pyobjc-framework-PushKit==8.5 in /opt/anaconda3/lib/python3.8/site-packages (from pyobjc>=2.4->pyttsx3) (8.5)\n",
      "Requirement already satisfied: pyobjc-framework-ScriptingBridge==8.5 in /opt/anaconda3/lib/python3.8/site-packages (from pyobjc>=2.4->pyttsx3) (8.5)\n",
      "Requirement already satisfied: pyobjc-framework-CoreMIDI==8.5 in /opt/anaconda3/lib/python3.8/site-packages (from pyobjc>=2.4->pyttsx3) (8.5)\n",
      "Requirement already satisfied: pyobjc-framework-DeviceCheck==8.5 in /opt/anaconda3/lib/python3.8/site-packages (from pyobjc>=2.4->pyttsx3) (8.5)\n",
      "Requirement already satisfied: pyobjc-framework-LatentSemanticMapping==8.5 in /opt/anaconda3/lib/python3.8/site-packages (from pyobjc>=2.4->pyttsx3) (8.5)\n",
      "Requirement already satisfied: pyobjc-framework-DiskArbitration==8.5 in /opt/anaconda3/lib/python3.8/site-packages (from pyobjc>=2.4->pyttsx3) (8.5)\n",
      "Requirement already satisfied: pyobjc-framework-MapKit==8.5 in /opt/anaconda3/lib/python3.8/site-packages (from pyobjc>=2.4->pyttsx3) (8.5)\n",
      "Requirement already satisfied: pyobjc-core==8.5 in /opt/anaconda3/lib/python3.8/site-packages (from pyobjc>=2.4->pyttsx3) (8.5)\n",
      "Requirement already satisfied: pyobjc-framework-SyncServices==8.5 in /opt/anaconda3/lib/python3.8/site-packages (from pyobjc>=2.4->pyttsx3) (8.5)\n",
      "Requirement already satisfied: pyobjc-framework-CalendarStore==8.5 in /opt/anaconda3/lib/python3.8/site-packages (from pyobjc>=2.4->pyttsx3) (8.5)\n",
      "Requirement already satisfied: pyobjc-framework-CoreHaptics==8.5 in /opt/anaconda3/lib/python3.8/site-packages (from pyobjc>=2.4->pyttsx3) (8.5)\n",
      "Requirement already satisfied: pyobjc-framework-Collaboration==8.5 in /opt/anaconda3/lib/python3.8/site-packages (from pyobjc>=2.4->pyttsx3) (8.5)\n",
      "Requirement already satisfied: pyobjc-framework-libdispatch==8.5 in /opt/anaconda3/lib/python3.8/site-packages (from pyobjc>=2.4->pyttsx3) (8.5)\n",
      "Requirement already satisfied: pyobjc-framework-CoreWLAN==8.5 in /opt/anaconda3/lib/python3.8/site-packages (from pyobjc>=2.4->pyttsx3) (8.5)\n",
      "Requirement already satisfied: pyobjc-framework-VideoSubscriberAccount==8.5 in /opt/anaconda3/lib/python3.8/site-packages (from pyobjc>=2.4->pyttsx3) (8.5)\n",
      "Requirement already satisfied: pyobjc-framework-InstantMessage==8.5 in /opt/anaconda3/lib/python3.8/site-packages (from pyobjc>=2.4->pyttsx3) (8.5)\n",
      "Requirement already satisfied: pyobjc-framework-FSEvents==8.5 in /opt/anaconda3/lib/python3.8/site-packages (from pyobjc>=2.4->pyttsx3) (8.5)\n",
      "Requirement already satisfied: pyobjc-framework-CloudKit==8.5 in /opt/anaconda3/lib/python3.8/site-packages (from pyobjc>=2.4->pyttsx3) (8.5)\n",
      "Requirement already satisfied: pyobjc-framework-CFNetwork==8.5 in /opt/anaconda3/lib/python3.8/site-packages (from pyobjc>=2.4->pyttsx3) (8.5)\n",
      "Requirement already satisfied: pyobjc-framework-Quartz==8.5 in /opt/anaconda3/lib/python3.8/site-packages (from pyobjc>=2.4->pyttsx3) (8.5)\n",
      "Requirement already satisfied: pyobjc-framework-iTunesLibrary==8.5 in /opt/anaconda3/lib/python3.8/site-packages (from pyobjc>=2.4->pyttsx3) (8.5)\n",
      "Requirement already satisfied: pyobjc-framework-EventKit==8.5 in /opt/anaconda3/lib/python3.8/site-packages (from pyobjc>=2.4->pyttsx3) (8.5)\n",
      "Requirement already satisfied: pyobjc-framework-GameController==8.5 in /opt/anaconda3/lib/python3.8/site-packages (from pyobjc>=2.4->pyttsx3) (8.5)\n",
      "Requirement already satisfied: pyobjc-framework-MediaLibrary==8.5 in /opt/anaconda3/lib/python3.8/site-packages (from pyobjc>=2.4->pyttsx3) (8.5)\n",
      "Requirement already satisfied: pyobjc-framework-DiscRecording==8.5 in /opt/anaconda3/lib/python3.8/site-packages (from pyobjc>=2.4->pyttsx3) (8.5)\n",
      "Requirement already satisfied: pyobjc-framework-SecurityFoundation==8.5 in /opt/anaconda3/lib/python3.8/site-packages (from pyobjc>=2.4->pyttsx3) (8.5)\n",
      "Requirement already satisfied: pyobjc-framework-SystemConfiguration==8.5 in /opt/anaconda3/lib/python3.8/site-packages (from pyobjc>=2.4->pyttsx3) (8.5)\n",
      "Requirement already satisfied: pyobjc-framework-MetalPerformanceShaders==8.5 in /opt/anaconda3/lib/python3.8/site-packages (from pyobjc>=2.4->pyttsx3) (8.5)\n",
      "Requirement already satisfied: pyobjc-framework-AdSupport==8.5 in /opt/anaconda3/lib/python3.8/site-packages (from pyobjc>=2.4->pyttsx3) (8.5)\n",
      "Requirement already satisfied: pyobjc-framework-SecurityInterface==8.5 in /opt/anaconda3/lib/python3.8/site-packages (from pyobjc>=2.4->pyttsx3) (8.5)\n",
      "Requirement already satisfied: pyobjc-framework-CoreMedia==8.5 in /opt/anaconda3/lib/python3.8/site-packages (from pyobjc>=2.4->pyttsx3) (8.5)\n",
      "Requirement already satisfied: pyobjc-framework-AutomaticAssessmentConfiguration==8.5 in /opt/anaconda3/lib/python3.8/site-packages (from pyobjc>=2.4->pyttsx3) (8.5)\n",
      "Requirement already satisfied: pyobjc-framework-SceneKit==8.5 in /opt/anaconda3/lib/python3.8/site-packages (from pyobjc>=2.4->pyttsx3) (8.5)\n",
      "Requirement already satisfied: pyobjc-framework-ImageCaptureCore==8.5 in /opt/anaconda3/lib/python3.8/site-packages (from pyobjc>=2.4->pyttsx3) (8.5)\n",
      "Requirement already satisfied: pyobjc-framework-MultipeerConnectivity==8.5 in /opt/anaconda3/lib/python3.8/site-packages (from pyobjc>=2.4->pyttsx3) (8.5)\n",
      "Requirement already satisfied: pyobjc-framework-Security==8.5 in /opt/anaconda3/lib/python3.8/site-packages (from pyobjc>=2.4->pyttsx3) (8.5)\n",
      "Requirement already satisfied: pyobjc-framework-SafariServices==8.5 in /opt/anaconda3/lib/python3.8/site-packages (from pyobjc>=2.4->pyttsx3) (8.5)\n",
      "Requirement already satisfied: pyobjc-framework-DictionaryServices==8.5 in /opt/anaconda3/lib/python3.8/site-packages (from pyobjc>=2.4->pyttsx3) (8.5)\n",
      "Requirement already satisfied: pyobjc-framework-LaunchServices==8.5 in /opt/anaconda3/lib/python3.8/site-packages (from pyobjc>=2.4->pyttsx3) (8.5)\n",
      "Requirement already satisfied: pyobjc-framework-AVKit==8.5 in /opt/anaconda3/lib/python3.8/site-packages (from pyobjc>=2.4->pyttsx3) (8.5)\n",
      "Requirement already satisfied: pyobjc-framework-QuickLookThumbnailing==8.5 in /opt/anaconda3/lib/python3.8/site-packages (from pyobjc>=2.4->pyttsx3) (8.5)\n",
      "Requirement already satisfied: pyobjc-framework-CoreMotion==8.5 in /opt/anaconda3/lib/python3.8/site-packages (from pyobjc>=2.4->pyttsx3) (8.5)\n",
      "Requirement already satisfied: pyobjc-framework-IMServicePlugIn==8.5 in /opt/anaconda3/lib/python3.8/site-packages (from pyobjc>=2.4->pyttsx3) (8.5)\n",
      "Requirement already satisfied: pyobjc-framework-NetFS==8.5 in /opt/anaconda3/lib/python3.8/site-packages (from pyobjc>=2.4->pyttsx3) (8.5)\n",
      "Requirement already satisfied: pyobjc-framework-MediaPlayer==8.5 in /opt/anaconda3/lib/python3.8/site-packages (from pyobjc>=2.4->pyttsx3) (8.5)\n",
      "Requirement already satisfied: pyobjc-framework-OpenDirectory==8.5 in /opt/anaconda3/lib/python3.8/site-packages (from pyobjc>=2.4->pyttsx3) (8.5)\n",
      "Requirement already satisfied: pyobjc-framework-StoreKit==8.5 in /opt/anaconda3/lib/python3.8/site-packages (from pyobjc>=2.4->pyttsx3) (8.5)\n",
      "Requirement already satisfied: pyobjc-framework-WebKit==8.5 in /opt/anaconda3/lib/python3.8/site-packages (from pyobjc>=2.4->pyttsx3) (8.5)\n",
      "Requirement already satisfied: pyobjc-framework-Metal==8.5 in /opt/anaconda3/lib/python3.8/site-packages (from pyobjc>=2.4->pyttsx3) (8.5)\n",
      "Requirement already satisfied: pyobjc-framework-NotificationCenter==8.5 in /opt/anaconda3/lib/python3.8/site-packages (from pyobjc>=2.4->pyttsx3) (8.5)\n",
      "Requirement already satisfied: pyobjc-framework-InstallerPlugins==8.5 in /opt/anaconda3/lib/python3.8/site-packages (from pyobjc>=2.4->pyttsx3) (8.5)\n",
      "Requirement already satisfied: pyobjc-framework-CoreAudioKit==8.5 in /opt/anaconda3/lib/python3.8/site-packages (from pyobjc>=2.4->pyttsx3) (8.5)\n",
      "Requirement already satisfied: pyobjc-framework-MetalKit==8.5 in /opt/anaconda3/lib/python3.8/site-packages (from pyobjc>=2.4->pyttsx3) (8.5)\n"
     ]
    }
   ],
   "source": [
    "!pip install pyttsx3 "
   ]
  },
  {
   "cell_type": "code",
   "execution_count": 20,
   "id": "e12d83fc",
   "metadata": {},
   "outputs": [
    {
     "name": "stdout",
     "output_type": "stream",
     "text": [
      "Requirement already satisfied: types-pyaudio in /opt/anaconda3/lib/python3.8/site-packages (0.2.14)\n",
      "Note: you may need to restart the kernel to use updated packages.\n"
     ]
    }
   ],
   "source": [
    "pip install types-pyaudio"
   ]
  },
  {
   "cell_type": "code",
   "execution_count": 21,
   "id": "804fca58",
   "metadata": {},
   "outputs": [
    {
     "name": "stdout",
     "output_type": "stream",
     "text": [
      "\u001b[33mWARNING: Requirement 'PyAudio‑0.2.11‑cp37‑cp37m‑win_amd64.whl' looks like a filename, but the file does not exist\u001b[0m\n",
      "\u001b[31mERROR: PyAudio‑0.2.11‑cp37‑cp37m‑win_amd64.whl is not a valid wheel filename.\u001b[0m\n",
      "Note: you may need to restart the kernel to use updated packages.\n"
     ]
    }
   ],
   "source": [
    "pip install PyAudio‑0.2.11‑cp37‑cp37m‑win_amd64.whl"
   ]
  },
  {
   "cell_type": "code",
   "execution_count": 29,
   "id": "f1854ddb",
   "metadata": {},
   "outputs": [],
   "source": [
    "import speech_recognition as sr \n",
    "from speech_recognition import Microphone \n",
    "import pyttsx3  \n",
    "import pyaudio"
   ]
  },
  {
   "cell_type": "code",
   "execution_count": 30,
   "id": "fe024e04",
   "metadata": {},
   "outputs": [
    {
     "data": {
      "text/plain": [
       "['Built-in Microphone', 'Built-in Output']"
      ]
     },
     "execution_count": 30,
     "metadata": {},
     "output_type": "execute_result"
    }
   ],
   "source": [
    "mic=sr.Microphone.list_microphone_names()\n",
    "mic"
   ]
  },
  {
   "cell_type": "markdown",
   "id": "aa7badc6",
   "metadata": {},
   "source": [
    "# Sprint 1"
   ]
  },
  {
   "cell_type": "code",
   "execution_count": 33,
   "id": "12ff0ec0",
   "metadata": {},
   "outputs": [],
   "source": [
    "r = sr.Recognizer()  \n",
    "  \n",
    "def SpeakText(command): \n",
    "    '''\n",
    "    Cette fonction permet de recuperer un texte de l'utilisateur\n",
    "    et de le lire avec le micro\n",
    "    \n",
    "    '''\n",
    "      \n",
    "    \n",
    "    engine = pyttsx3.init() \n",
    "    engine.say(command)  \n",
    "    engine.runAndWait() \n",
    "      \n",
    "      \n",
    "  \n",
    "    while(1):     \n",
    "      \n",
    "    \n",
    "    \n",
    "        try: \n",
    "          \n",
    "        \n",
    "        \n",
    "            with sr.Microphone(device_index =0,sample_rate=44000) as source:\n",
    "              \n",
    "            \n",
    "            \n",
    "                #ajustement du bruit\n",
    "                r.adjust_for_ambient_noise(source, duration=10) \n",
    "              \n",
    "            \n",
    "                audio = r.listen(source) \n",
    "              \n",
    "                #transcription du texte en vocal\n",
    "                Text = r.recognize_google(audio) \n",
    "                Text = Text.lower() \n",
    "  \n",
    "                print(Text) \n",
    "                SpeakText(Text) \n",
    "              \n",
    "        except sr.RequestError as e: \n",
    "            print(\"Impossible de demander les résultats; {0}\".format(e)) \n",
    "          \n",
    "        except sr.UnknownValueError: \n",
    "            print(\"une erreur inconnue s'est produite\") "
   ]
  },
  {
   "cell_type": "code",
   "execution_count": 34,
   "id": "7e97a267",
   "metadata": {},
   "outputs": [
    {
     "ename": "RuntimeError",
     "evalue": "run loop already started",
     "output_type": "error",
     "traceback": [
      "\u001b[0;31m---------------------------------------------------------------------------\u001b[0m",
      "\u001b[0;31mRuntimeError\u001b[0m                              Traceback (most recent call last)",
      "\u001b[0;32m<ipython-input-34-25958ed81ec5>\u001b[0m in \u001b[0;36m<module>\u001b[0;34m\u001b[0m\n\u001b[1;32m      1\u001b[0m \u001b[0mcommande\u001b[0m\u001b[0;34m=\u001b[0m\u001b[0;34m'Bienvenu chez volkeno passez une excellente journée'\u001b[0m\u001b[0;34m\u001b[0m\u001b[0;34m\u001b[0m\u001b[0m\n\u001b[0;32m----> 2\u001b[0;31m \u001b[0mSpeakText\u001b[0m\u001b[0;34m(\u001b[0m\u001b[0mcommande\u001b[0m\u001b[0;34m)\u001b[0m\u001b[0;34m\u001b[0m\u001b[0;34m\u001b[0m\u001b[0m\n\u001b[0m",
      "\u001b[0;32m<ipython-input-33-f773a6faa617>\u001b[0m in \u001b[0;36mSpeakText\u001b[0;34m(command)\u001b[0m\n\u001b[1;32m     11\u001b[0m     \u001b[0mengine\u001b[0m \u001b[0;34m=\u001b[0m \u001b[0mpyttsx3\u001b[0m\u001b[0;34m.\u001b[0m\u001b[0minit\u001b[0m\u001b[0;34m(\u001b[0m\u001b[0;34m)\u001b[0m\u001b[0;34m\u001b[0m\u001b[0;34m\u001b[0m\u001b[0m\n\u001b[1;32m     12\u001b[0m     \u001b[0mengine\u001b[0m\u001b[0;34m.\u001b[0m\u001b[0msay\u001b[0m\u001b[0;34m(\u001b[0m\u001b[0mcommand\u001b[0m\u001b[0;34m)\u001b[0m\u001b[0;34m\u001b[0m\u001b[0;34m\u001b[0m\u001b[0m\n\u001b[0;32m---> 13\u001b[0;31m     \u001b[0mengine\u001b[0m\u001b[0;34m.\u001b[0m\u001b[0mrunAndWait\u001b[0m\u001b[0;34m(\u001b[0m\u001b[0;34m)\u001b[0m\u001b[0;34m\u001b[0m\u001b[0;34m\u001b[0m\u001b[0m\n\u001b[0m\u001b[1;32m     14\u001b[0m \u001b[0;34m\u001b[0m\u001b[0m\n\u001b[1;32m     15\u001b[0m \u001b[0;34m\u001b[0m\u001b[0m\n",
      "\u001b[0;32m/opt/anaconda3/lib/python3.8/site-packages/pyttsx3/engine.py\u001b[0m in \u001b[0;36mrunAndWait\u001b[0;34m(self)\u001b[0m\n\u001b[1;32m    175\u001b[0m         \"\"\"\n\u001b[1;32m    176\u001b[0m         \u001b[0;32mif\u001b[0m \u001b[0mself\u001b[0m\u001b[0;34m.\u001b[0m\u001b[0m_inLoop\u001b[0m\u001b[0;34m:\u001b[0m\u001b[0;34m\u001b[0m\u001b[0;34m\u001b[0m\u001b[0m\n\u001b[0;32m--> 177\u001b[0;31m             \u001b[0;32mraise\u001b[0m \u001b[0mRuntimeError\u001b[0m\u001b[0;34m(\u001b[0m\u001b[0;34m'run loop already started'\u001b[0m\u001b[0;34m)\u001b[0m\u001b[0;34m\u001b[0m\u001b[0;34m\u001b[0m\u001b[0m\n\u001b[0m\u001b[1;32m    178\u001b[0m         \u001b[0mself\u001b[0m\u001b[0;34m.\u001b[0m\u001b[0m_inLoop\u001b[0m \u001b[0;34m=\u001b[0m \u001b[0;32mTrue\u001b[0m\u001b[0;34m\u001b[0m\u001b[0;34m\u001b[0m\u001b[0m\n\u001b[1;32m    179\u001b[0m         \u001b[0mself\u001b[0m\u001b[0;34m.\u001b[0m\u001b[0m_driverLoop\u001b[0m \u001b[0;34m=\u001b[0m \u001b[0;32mTrue\u001b[0m\u001b[0;34m\u001b[0m\u001b[0;34m\u001b[0m\u001b[0m\n",
      "\u001b[0;31mRuntimeError\u001b[0m: run loop already started"
     ]
    }
   ],
   "source": [
    "commande='Bienvenu chez volkeno passez une excellente journée'\n",
    "SpeakText(commande)"
   ]
  },
  {
   "cell_type": "code",
   "execution_count": 35,
   "id": "900b1ce3",
   "metadata": {},
   "outputs": [
    {
     "ename": "RuntimeError",
     "evalue": "run loop already started",
     "output_type": "error",
     "traceback": [
      "\u001b[0;31m---------------------------------------------------------------------------\u001b[0m",
      "\u001b[0;31mRuntimeError\u001b[0m                              Traceback (most recent call last)",
      "\u001b[0;32m<ipython-input-35-f25edd2921e3>\u001b[0m in \u001b[0;36m<module>\u001b[0;34m\u001b[0m\n\u001b[1;32m      1\u001b[0m \u001b[0mcommande\u001b[0m\u001b[0;34m=\u001b[0m\u001b[0;34m'salut prince coumba ndoffene comment vous allez je suis ravi de vous connaitre moi c est khadim'\u001b[0m\u001b[0;34m\u001b[0m\u001b[0;34m\u001b[0m\u001b[0m\n\u001b[0;32m----> 2\u001b[0;31m \u001b[0mSpeakText\u001b[0m\u001b[0;34m(\u001b[0m\u001b[0mcommande\u001b[0m\u001b[0;34m)\u001b[0m\u001b[0;34m\u001b[0m\u001b[0;34m\u001b[0m\u001b[0m\n\u001b[0m",
      "\u001b[0;32m<ipython-input-33-f773a6faa617>\u001b[0m in \u001b[0;36mSpeakText\u001b[0;34m(command)\u001b[0m\n\u001b[1;32m     11\u001b[0m     \u001b[0mengine\u001b[0m \u001b[0;34m=\u001b[0m \u001b[0mpyttsx3\u001b[0m\u001b[0;34m.\u001b[0m\u001b[0minit\u001b[0m\u001b[0;34m(\u001b[0m\u001b[0;34m)\u001b[0m\u001b[0;34m\u001b[0m\u001b[0;34m\u001b[0m\u001b[0m\n\u001b[1;32m     12\u001b[0m     \u001b[0mengine\u001b[0m\u001b[0;34m.\u001b[0m\u001b[0msay\u001b[0m\u001b[0;34m(\u001b[0m\u001b[0mcommand\u001b[0m\u001b[0;34m)\u001b[0m\u001b[0;34m\u001b[0m\u001b[0;34m\u001b[0m\u001b[0m\n\u001b[0;32m---> 13\u001b[0;31m     \u001b[0mengine\u001b[0m\u001b[0;34m.\u001b[0m\u001b[0mrunAndWait\u001b[0m\u001b[0;34m(\u001b[0m\u001b[0;34m)\u001b[0m\u001b[0;34m\u001b[0m\u001b[0;34m\u001b[0m\u001b[0m\n\u001b[0m\u001b[1;32m     14\u001b[0m \u001b[0;34m\u001b[0m\u001b[0m\n\u001b[1;32m     15\u001b[0m \u001b[0;34m\u001b[0m\u001b[0m\n",
      "\u001b[0;32m/opt/anaconda3/lib/python3.8/site-packages/pyttsx3/engine.py\u001b[0m in \u001b[0;36mrunAndWait\u001b[0;34m(self)\u001b[0m\n\u001b[1;32m    175\u001b[0m         \"\"\"\n\u001b[1;32m    176\u001b[0m         \u001b[0;32mif\u001b[0m \u001b[0mself\u001b[0m\u001b[0;34m.\u001b[0m\u001b[0m_inLoop\u001b[0m\u001b[0;34m:\u001b[0m\u001b[0;34m\u001b[0m\u001b[0;34m\u001b[0m\u001b[0m\n\u001b[0;32m--> 177\u001b[0;31m             \u001b[0;32mraise\u001b[0m \u001b[0mRuntimeError\u001b[0m\u001b[0;34m(\u001b[0m\u001b[0;34m'run loop already started'\u001b[0m\u001b[0;34m)\u001b[0m\u001b[0;34m\u001b[0m\u001b[0;34m\u001b[0m\u001b[0m\n\u001b[0m\u001b[1;32m    178\u001b[0m         \u001b[0mself\u001b[0m\u001b[0;34m.\u001b[0m\u001b[0m_inLoop\u001b[0m \u001b[0;34m=\u001b[0m \u001b[0;32mTrue\u001b[0m\u001b[0;34m\u001b[0m\u001b[0;34m\u001b[0m\u001b[0m\n\u001b[1;32m    179\u001b[0m         \u001b[0mself\u001b[0m\u001b[0;34m.\u001b[0m\u001b[0m_driverLoop\u001b[0m \u001b[0;34m=\u001b[0m \u001b[0;32mTrue\u001b[0m\u001b[0;34m\u001b[0m\u001b[0;34m\u001b[0m\u001b[0m\n",
      "\u001b[0;31mRuntimeError\u001b[0m: run loop already started"
     ]
    }
   ],
   "source": [
    "commande='salut prince coumba ndoffene comment vous allez je suis ravi de vous connaitre moi c est khadim'\n",
    "SpeakText(commande)"
   ]
  },
  {
   "cell_type": "markdown",
   "id": "b0b67304",
   "metadata": {},
   "source": [
    "# sprint 2"
   ]
  },
  {
   "cell_type": "code",
   "execution_count": null,
   "id": "0ad4448a",
   "metadata": {},
   "outputs": [],
   "source": [
    "   \n",
    "def SpeakText_mot_cle(command): \n",
    "    '''\n",
    "    Cette fonction permet de recuperer une  note vocale de l'utilisateur\n",
    "    pour effectuer la tache d ouverture d une application\n",
    "    \n",
    "    '''\n",
    "      \n",
    "    \n",
    "    engine = pyttsx3.init() \n",
    "    engine.say(command)  \n",
    "    engine.runAndWait() \n",
    "    audio_app='Musique'\n",
    "      \n",
    "      \n",
    "  \n",
    "    while(1):     \n",
    "      \n",
    "    \n",
    "    \n",
    "        try: \n",
    "          \n",
    "        \n",
    "        \n",
    "            with sr.Microphone(device_index =0 ) as source:\n",
    "              \n",
    "            \n",
    "            \n",
    "                #ajustement du bruit\n",
    "                r.adjust_for_ambient_noise(source, duration=10) \n",
    "              \n",
    "            \n",
    "                audio = r.listen(source) \n",
    "              \n",
    "                #transcription du texte en vocal\n",
    "                Text = r.recognize_google(audio) \n",
    "                Text = Text.lower() \n",
    "                if (Text=='musique'):\n",
    "                    print('voulez vous demarer le lecteur audio ',audio_app)\n",
    "  \n",
    "                print(Text) \n",
    "                SpeakText(Text) \n",
    "              \n",
    "        except sr.RequestError as e: \n",
    "            print(\"Impossible de demander les résultats; {0}\".format(e)) \n",
    "          \n",
    "        except sr.UnknownValueError: \n",
    "            print(\"une erreur inconnue s'est produite\") "
   ]
  },
  {
   "cell_type": "code",
   "execution_count": null,
   "id": "1712c626",
   "metadata": {},
   "outputs": [],
   "source": [
    "\n",
    "SpeakText_mot_cle('voulez vous demarer le lecteur audio ')"
   ]
  },
  {
   "cell_type": "markdown",
   "id": "cdeff65c",
   "metadata": {},
   "source": [
    "# Sprint3 :Voir github"
   ]
  },
  {
   "cell_type": "code",
   "execution_count": null,
   "id": "84771688",
   "metadata": {},
   "outputs": [],
   "source": []
  },
  {
   "cell_type": "code",
   "execution_count": null,
   "id": "84d907a2",
   "metadata": {},
   "outputs": [],
   "source": []
  }
 ],
 "metadata": {
  "kernelspec": {
   "display_name": "Python 3",
   "language": "python",
   "name": "python3"
  },
  "language_info": {
   "codemirror_mode": {
    "name": "ipython",
    "version": 3
   },
   "file_extension": ".py",
   "mimetype": "text/x-python",
   "name": "python",
   "nbconvert_exporter": "python",
   "pygments_lexer": "ipython3",
   "version": "3.8.8"
  }
 },
 "nbformat": 4,
 "nbformat_minor": 5
}
