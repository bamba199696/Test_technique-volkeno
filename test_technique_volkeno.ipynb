{
 "cells": [
  {
   "cell_type": "markdown",
   "id": "0488faab",
   "metadata": {},
   "source": [
    "# installation des librairies"
   ]
  },
  {
   "cell_type": "code",
   "execution_count": 1,
   "id": "98d22aac",
   "metadata": {},
   "outputs": [],
   "source": [
    "#pip install SpeechRecognition==3.2.0"
   ]
  },
  {
   "cell_type": "code",
   "execution_count": 2,
   "id": "e9b34925",
   "metadata": {},
   "outputs": [],
   "source": [
    "#!pip install pyttsx3 "
   ]
  },
  {
   "cell_type": "code",
   "execution_count": 3,
   "id": "e12d83fc",
   "metadata": {},
   "outputs": [],
   "source": [
    "#pip install types-pyaudio"
   ]
  },
  {
   "cell_type": "code",
   "execution_count": 4,
   "id": "804fca58",
   "metadata": {},
   "outputs": [],
   "source": [
    "#pip install PyAudio‑0.2.11‑cp37‑cp37m‑win_amd64.whl"
   ]
  },
  {
   "cell_type": "code",
   "execution_count": 7,
   "id": "f1854ddb",
   "metadata": {},
   "outputs": [],
   "source": [
    "#import speech_recognition as sr \n",
    "from speech_recognition import Microphone \n",
    "import pyttsx3  \n",
    "import pyaudio"
   ]
  },
  {
   "cell_type": "code",
   "execution_count": 11,
   "id": "10e55bac",
   "metadata": {},
   "outputs": [
    {
     "data": {
      "text/plain": [
       "[]"
      ]
     },
     "execution_count": 11,
     "metadata": {},
     "output_type": "execute_result"
    }
   ],
   "source": [
    "mic=sr.Microphone.list_microphone_names()\n",
    "mic"
   ]
  },
  {
   "cell_type": "markdown",
   "id": "aa7badc6",
   "metadata": {},
   "source": [
    "# Sprint 1"
   ]
  },
  {
   "cell_type": "code",
   "execution_count": null,
   "id": "5886a51e",
   "metadata": {},
   "outputs": [],
   "source": [
    " \n",
    "r = sr.Recognizer()  \n",
    "  \n",
    "def SpeakText(command): \n",
    "    '''\n",
    "    Cette fonction permet de recuperer une  note vocale de l'utilisateur\n",
    "    et de l'afficher en texte dans l'ecran\n",
    "    \n",
    "    '''\n",
    "      \n",
    "    \n",
    "    engine = pyttsx3.init() \n",
    "    engine.say(command)  \n",
    "    engine.runAndWait() \n",
    "      \n",
    "      \n",
    "  \n",
    "while(1):     \n",
    "      \n",
    "    \n",
    "    \n",
    "    try: \n",
    "          \n",
    "        \n",
    "        \n",
    "        with sr.Microphone(device_index ='le device a specificier' , sample_rate = sample_rate, \n",
    "                        chunk_size = chunk_size) as source:\n",
    "              \n",
    "            \n",
    "            \n",
    "            \n",
    "            r.adjust_for_ambient_noise(source, duration=0.6) \n",
    "              \n",
    "            \n",
    "            audio = r.listen(source) \n",
    "              \n",
    "            \n",
    "            Text = r.recognize_google(audio) \n",
    "            Text = Text.lower() \n",
    "  \n",
    "            print(Text) \n",
    "            SpeakText(Text) \n",
    "              \n",
    "    except sr.RequestError as e: \n",
    "        print(\"Impossible de demander les résultats; {0}\".format(e)) \n",
    "          \n",
    "    except sr.UnknownValueError: \n",
    "        print(\"une erreur inconnue s'est produite\") "
   ]
  },
  {
   "cell_type": "code",
   "execution_count": null,
   "id": "edd9a7ad",
   "metadata": {},
   "outputs": [],
   "source": [
    "SpeakText(command)"
   ]
  },
  {
   "cell_type": "markdown",
   "id": "b0b67304",
   "metadata": {},
   "source": [
    "# sprint 2"
   ]
  },
  {
   "cell_type": "code",
   "execution_count": null,
   "id": "20e256f4",
   "metadata": {},
   "outputs": [],
   "source": [
    "\n",
    "  \n",
    "def SpeakText_mot_cle(command):\n",
    "    '''\n",
    "    Cette fonction permet de recuper une note note vocale de l'utilisateur\n",
    "    et de voir le mot cle musique s'il existe il ouvre l'application audio\n",
    "    \n",
    "    '''\n",
    "      \n",
    "    \n",
    "    engine = pyttsx3.init() \n",
    "    engine.say(command)  \n",
    "    engine.runAndWait() \n",
    "    audio='Musique_app'\n",
    "      \n",
    "  \n",
    "while(1):     \n",
    "      \n",
    "    \n",
    "    \n",
    "    try: \n",
    "          \n",
    "        \n",
    "        \n",
    "        with sr.Microphone(device_index ='le device a specificier' , sample_rate = sample_rate, \n",
    "                        chunk_size = chunk_size) as source:\n",
    "              \n",
    "            \n",
    "            \n",
    "            \n",
    "            r.adjust_for_ambient_noise(source, duration=0.6) \n",
    "              \n",
    "            \n",
    "            audio = r.listen(source) \n",
    "              \n",
    "            \n",
    "            Text = r.recognize_google(audio) \n",
    "            Text = Text.lower() \n",
    "            if (Text=='musique'):\n",
    "                print('voulez vous demarer le lecteur audio ',audio)\n",
    "                \n",
    "                \n",
    "  \n",
    "            print(Text) \n",
    "            SpeakText(Text) \n",
    "              \n",
    "    except sr.RequestError as e: \n",
    "        print(\"Impossible de demander les résultats; {0}\".format(e)) \n",
    "          \n",
    "    except sr.UnknownValueError: \n",
    "        print(\"une erreur inconnue s'est produite\") "
   ]
  },
  {
   "cell_type": "code",
   "execution_count": null,
   "id": "f934f6ab",
   "metadata": {},
   "outputs": [],
   "source": [
    "SpeakText_mot_cle(command)"
   ]
  },
  {
   "cell_type": "markdown",
   "id": "557340c0",
   "metadata": {},
   "source": [
    "# Sprint3 :Voir github"
   ]
  },
  {
   "cell_type": "code",
   "execution_count": null,
   "id": "fb3fa847",
   "metadata": {},
   "outputs": [],
   "source": []
  }
 ],
 "metadata": {
  "kernelspec": {
   "display_name": "Python 3",
   "language": "python",
   "name": "python3"
  },
  "language_info": {
   "codemirror_mode": {
    "name": "ipython",
    "version": 3
   },
   "file_extension": ".py",
   "mimetype": "text/x-python",
   "name": "python",
   "nbconvert_exporter": "python",
   "pygments_lexer": "ipython3",
   "version": "3.8.8"
  }
 },
 "nbformat": 4,
 "nbformat_minor": 5
}
